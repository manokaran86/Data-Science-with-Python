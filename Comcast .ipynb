{
 "cells": [
  {
   "cell_type": "code",
   "execution_count": 1,
   "metadata": {},
   "outputs": [],
   "source": [
    "## Import the required libraries\n",
    "import numpy as np\n",
    "import pandas as pd\n",
    "\n",
    "## import matplot library\n",
    "import matplotlib.pyplot as plt\n",
    "%matplotlib inline"
   ]
  },
  {
   "cell_type": "code",
   "execution_count": 2,
   "metadata": {},
   "outputs": [],
   "source": [
    "#Importing comcast dataset\n",
    "df_comcast = pd.read_csv('C:\\\\Users\\\\manok\\\\OneDrive\\\\Desktop\\\\Comcast\\\\Comcast_telecom_complaints_data.csv')"
   ]
  },
  {
   "cell_type": "code",
   "execution_count": 3,
   "metadata": {},
   "outputs": [
    {
     "data": {
      "text/html": [
       "<div>\n",
       "<style scoped>\n",
       "    .dataframe tbody tr th:only-of-type {\n",
       "        vertical-align: middle;\n",
       "    }\n",
       "\n",
       "    .dataframe tbody tr th {\n",
       "        vertical-align: top;\n",
       "    }\n",
       "\n",
       "    .dataframe thead th {\n",
       "        text-align: right;\n",
       "    }\n",
       "</style>\n",
       "<table border=\"1\" class=\"dataframe\">\n",
       "  <thead>\n",
       "    <tr style=\"text-align: right;\">\n",
       "      <th></th>\n",
       "      <th>Ticket #</th>\n",
       "      <th>Customer Complaint</th>\n",
       "      <th>Date</th>\n",
       "      <th>Date_month_year</th>\n",
       "      <th>Time</th>\n",
       "      <th>Received Via</th>\n",
       "      <th>City</th>\n",
       "      <th>State</th>\n",
       "      <th>Zip code</th>\n",
       "      <th>Status</th>\n",
       "      <th>Filing on Behalf of Someone</th>\n",
       "    </tr>\n",
       "  </thead>\n",
       "  <tbody>\n",
       "    <tr>\n",
       "      <td>0</td>\n",
       "      <td>250635</td>\n",
       "      <td>Comcast Cable Internet Speeds</td>\n",
       "      <td>22-04-15</td>\n",
       "      <td>22-Apr-15</td>\n",
       "      <td>3:53:50 PM</td>\n",
       "      <td>Customer Care Call</td>\n",
       "      <td>Abingdon</td>\n",
       "      <td>Maryland</td>\n",
       "      <td>21009</td>\n",
       "      <td>Closed</td>\n",
       "      <td>No</td>\n",
       "    </tr>\n",
       "    <tr>\n",
       "      <td>1</td>\n",
       "      <td>223441</td>\n",
       "      <td>Payment disappear - service got disconnected</td>\n",
       "      <td>04-08-15</td>\n",
       "      <td>04-Aug-15</td>\n",
       "      <td>10:22:56 AM</td>\n",
       "      <td>Internet</td>\n",
       "      <td>Acworth</td>\n",
       "      <td>Georgia</td>\n",
       "      <td>30102</td>\n",
       "      <td>Closed</td>\n",
       "      <td>No</td>\n",
       "    </tr>\n",
       "    <tr>\n",
       "      <td>2</td>\n",
       "      <td>242732</td>\n",
       "      <td>Speed and Service</td>\n",
       "      <td>18-04-15</td>\n",
       "      <td>18-Apr-15</td>\n",
       "      <td>9:55:47 AM</td>\n",
       "      <td>Internet</td>\n",
       "      <td>Acworth</td>\n",
       "      <td>Georgia</td>\n",
       "      <td>30101</td>\n",
       "      <td>Closed</td>\n",
       "      <td>Yes</td>\n",
       "    </tr>\n",
       "    <tr>\n",
       "      <td>3</td>\n",
       "      <td>277946</td>\n",
       "      <td>Comcast Imposed a New Usage Cap of 300GB that ...</td>\n",
       "      <td>05-07-15</td>\n",
       "      <td>05-Jul-15</td>\n",
       "      <td>11:59:35 AM</td>\n",
       "      <td>Internet</td>\n",
       "      <td>Acworth</td>\n",
       "      <td>Georgia</td>\n",
       "      <td>30101</td>\n",
       "      <td>Open</td>\n",
       "      <td>Yes</td>\n",
       "    </tr>\n",
       "    <tr>\n",
       "      <td>4</td>\n",
       "      <td>307175</td>\n",
       "      <td>Comcast not working and no service to boot</td>\n",
       "      <td>26-05-15</td>\n",
       "      <td>26-May-15</td>\n",
       "      <td>1:25:26 PM</td>\n",
       "      <td>Internet</td>\n",
       "      <td>Acworth</td>\n",
       "      <td>Georgia</td>\n",
       "      <td>30101</td>\n",
       "      <td>Solved</td>\n",
       "      <td>No</td>\n",
       "    </tr>\n",
       "  </tbody>\n",
       "</table>\n",
       "</div>"
      ],
      "text/plain": [
       "  Ticket #                                 Customer Complaint      Date  \\\n",
       "0   250635                      Comcast Cable Internet Speeds  22-04-15   \n",
       "1   223441       Payment disappear - service got disconnected  04-08-15   \n",
       "2   242732                                  Speed and Service  18-04-15   \n",
       "3   277946  Comcast Imposed a New Usage Cap of 300GB that ...  05-07-15   \n",
       "4   307175         Comcast not working and no service to boot  26-05-15   \n",
       "\n",
       "  Date_month_year         Time        Received Via      City     State  \\\n",
       "0       22-Apr-15   3:53:50 PM  Customer Care Call  Abingdon  Maryland   \n",
       "1       04-Aug-15  10:22:56 AM            Internet   Acworth   Georgia   \n",
       "2       18-Apr-15   9:55:47 AM            Internet   Acworth   Georgia   \n",
       "3       05-Jul-15  11:59:35 AM            Internet   Acworth   Georgia   \n",
       "4       26-May-15   1:25:26 PM            Internet   Acworth   Georgia   \n",
       "\n",
       "   Zip code  Status Filing on Behalf of Someone  \n",
       "0     21009  Closed                          No  \n",
       "1     30102  Closed                          No  \n",
       "2     30101  Closed                         Yes  \n",
       "3     30101    Open                         Yes  \n",
       "4     30101  Solved                          No  "
      ]
     },
     "execution_count": 3,
     "metadata": {},
     "output_type": "execute_result"
    }
   ],
   "source": [
    "#View the first five observations of the dataset\n",
    "df_comcast.head()"
   ]
  },
  {
   "cell_type": "code",
   "execution_count": 4,
   "metadata": {},
   "outputs": [
    {
     "data": {
      "text/plain": [
       "(2224, 11)"
      ]
     },
     "execution_count": 4,
     "metadata": {},
     "output_type": "execute_result"
    }
   ],
   "source": [
    "## Shape of the dataset\n",
    "df_comcast.shape"
   ]
  },
  {
   "cell_type": "code",
   "execution_count": 5,
   "metadata": {},
   "outputs": [],
   "source": [
    "## Combining the data and time column\n",
    "df_comcast[\"Report_index\"] = df_comcast[\"Date\"] + \" \" + df_comcast[\"Time\"]"
   ]
  },
  {
   "cell_type": "code",
   "execution_count": 6,
   "metadata": {},
   "outputs": [
    {
     "data": {
      "text/plain": [
       "0        22-04-15 3:53:50 PM\n",
       "1       04-08-15 10:22:56 AM\n",
       "2        18-04-15 9:55:47 AM\n",
       "3       05-07-15 11:59:35 AM\n",
       "4        26-05-15 1:25:26 PM\n",
       "                ...         \n",
       "2219     04-02-15 9:13:18 AM\n",
       "2220     06-02-15 1:24:39 PM\n",
       "2221     06-09-15 5:28:41 PM\n",
       "2222    23-06-15 11:13:30 PM\n",
       "2223    24-06-15 10:28:33 PM\n",
       "Name: Report_index, Length: 2224, dtype: object"
      ]
     },
     "execution_count": 6,
     "metadata": {},
     "output_type": "execute_result"
    }
   ],
   "source": [
    "df_comcast[\"Report_index\"]"
   ]
  },
  {
   "cell_type": "code",
   "execution_count": 7,
   "metadata": {},
   "outputs": [],
   "source": [
    "## Converting the Date_month_year to the datetime format\n",
    "df_comcast[\"Date_month_year\"] = pd.to_datetime(df_comcast[\"Date_month_year\"])"
   ]
  },
  {
   "cell_type": "code",
   "execution_count": 8,
   "metadata": {},
   "outputs": [
    {
     "data": {
      "text/plain": [
       "0   2015-04-22\n",
       "1   2015-08-04\n",
       "2   2015-04-18\n",
       "3   2015-07-05\n",
       "4   2015-05-26\n",
       "Name: Date_month_year, dtype: datetime64[ns]"
      ]
     },
     "execution_count": 8,
     "metadata": {},
     "output_type": "execute_result"
    }
   ],
   "source": [
    "df_comcast[\"Date_month_year\"].head()"
   ]
  },
  {
   "cell_type": "code",
   "execution_count": 9,
   "metadata": {},
   "outputs": [],
   "source": [
    "## Replacing the Index part with 'Report_index'\n",
    "df_comcast = df_comcast.set_index(df_comcast[\"Report_index\"])"
   ]
  },
  {
   "cell_type": "code",
   "execution_count": 10,
   "metadata": {},
   "outputs": [
    {
     "data": {
      "text/html": [
       "<div>\n",
       "<style scoped>\n",
       "    .dataframe tbody tr th:only-of-type {\n",
       "        vertical-align: middle;\n",
       "    }\n",
       "\n",
       "    .dataframe tbody tr th {\n",
       "        vertical-align: top;\n",
       "    }\n",
       "\n",
       "    .dataframe thead th {\n",
       "        text-align: right;\n",
       "    }\n",
       "</style>\n",
       "<table border=\"1\" class=\"dataframe\">\n",
       "  <thead>\n",
       "    <tr style=\"text-align: right;\">\n",
       "      <th></th>\n",
       "      <th>Ticket #</th>\n",
       "      <th>Customer Complaint</th>\n",
       "      <th>Date</th>\n",
       "      <th>Date_month_year</th>\n",
       "      <th>Time</th>\n",
       "      <th>Received Via</th>\n",
       "      <th>City</th>\n",
       "      <th>State</th>\n",
       "      <th>Zip code</th>\n",
       "      <th>Status</th>\n",
       "      <th>Filing on Behalf of Someone</th>\n",
       "      <th>Report_index</th>\n",
       "    </tr>\n",
       "    <tr>\n",
       "      <th>Report_index</th>\n",
       "      <th></th>\n",
       "      <th></th>\n",
       "      <th></th>\n",
       "      <th></th>\n",
       "      <th></th>\n",
       "      <th></th>\n",
       "      <th></th>\n",
       "      <th></th>\n",
       "      <th></th>\n",
       "      <th></th>\n",
       "      <th></th>\n",
       "      <th></th>\n",
       "    </tr>\n",
       "  </thead>\n",
       "  <tbody>\n",
       "    <tr>\n",
       "      <td>22-04-15 3:53:50 PM</td>\n",
       "      <td>250635</td>\n",
       "      <td>Comcast Cable Internet Speeds</td>\n",
       "      <td>22-04-15</td>\n",
       "      <td>2015-04-22</td>\n",
       "      <td>3:53:50 PM</td>\n",
       "      <td>Customer Care Call</td>\n",
       "      <td>Abingdon</td>\n",
       "      <td>Maryland</td>\n",
       "      <td>21009</td>\n",
       "      <td>Closed</td>\n",
       "      <td>No</td>\n",
       "      <td>22-04-15 3:53:50 PM</td>\n",
       "    </tr>\n",
       "    <tr>\n",
       "      <td>04-08-15 10:22:56 AM</td>\n",
       "      <td>223441</td>\n",
       "      <td>Payment disappear - service got disconnected</td>\n",
       "      <td>04-08-15</td>\n",
       "      <td>2015-08-04</td>\n",
       "      <td>10:22:56 AM</td>\n",
       "      <td>Internet</td>\n",
       "      <td>Acworth</td>\n",
       "      <td>Georgia</td>\n",
       "      <td>30102</td>\n",
       "      <td>Closed</td>\n",
       "      <td>No</td>\n",
       "      <td>04-08-15 10:22:56 AM</td>\n",
       "    </tr>\n",
       "    <tr>\n",
       "      <td>18-04-15 9:55:47 AM</td>\n",
       "      <td>242732</td>\n",
       "      <td>Speed and Service</td>\n",
       "      <td>18-04-15</td>\n",
       "      <td>2015-04-18</td>\n",
       "      <td>9:55:47 AM</td>\n",
       "      <td>Internet</td>\n",
       "      <td>Acworth</td>\n",
       "      <td>Georgia</td>\n",
       "      <td>30101</td>\n",
       "      <td>Closed</td>\n",
       "      <td>Yes</td>\n",
       "      <td>18-04-15 9:55:47 AM</td>\n",
       "    </tr>\n",
       "  </tbody>\n",
       "</table>\n",
       "</div>"
      ],
      "text/plain": [
       "                     Ticket #                            Customer Complaint  \\\n",
       "Report_index                                                                  \n",
       "22-04-15 3:53:50 PM    250635                 Comcast Cable Internet Speeds   \n",
       "04-08-15 10:22:56 AM   223441  Payment disappear - service got disconnected   \n",
       "18-04-15 9:55:47 AM    242732                             Speed and Service   \n",
       "\n",
       "                          Date Date_month_year         Time  \\\n",
       "Report_index                                                  \n",
       "22-04-15 3:53:50 PM   22-04-15      2015-04-22   3:53:50 PM   \n",
       "04-08-15 10:22:56 AM  04-08-15      2015-08-04  10:22:56 AM   \n",
       "18-04-15 9:55:47 AM   18-04-15      2015-04-18   9:55:47 AM   \n",
       "\n",
       "                            Received Via      City     State  Zip code  \\\n",
       "Report_index                                                             \n",
       "22-04-15 3:53:50 PM   Customer Care Call  Abingdon  Maryland     21009   \n",
       "04-08-15 10:22:56 AM            Internet   Acworth   Georgia     30102   \n",
       "18-04-15 9:55:47 AM             Internet   Acworth   Georgia     30101   \n",
       "\n",
       "                      Status Filing on Behalf of Someone          Report_index  \n",
       "Report_index                                                                    \n",
       "22-04-15 3:53:50 PM   Closed                          No   22-04-15 3:53:50 PM  \n",
       "04-08-15 10:22:56 AM  Closed                          No  04-08-15 10:22:56 AM  \n",
       "18-04-15 9:55:47 AM   Closed                         Yes   18-04-15 9:55:47 AM  "
      ]
     },
     "execution_count": 10,
     "metadata": {},
     "output_type": "execute_result"
    }
   ],
   "source": [
    "df_comcast.head(3)"
   ]
  },
  {
   "cell_type": "code",
   "execution_count": 11,
   "metadata": {},
   "outputs": [],
   "source": [
    "## Get the No of complaints daywise\n",
    "No_of_complaints_daywise = df_comcast[\"Date_month_year\"].value_counts()"
   ]
  },
  {
   "cell_type": "code",
   "execution_count": 12,
   "metadata": {},
   "outputs": [
    {
     "data": {
      "text/plain": [
       "2015-06-24    218\n",
       "2015-06-23    190\n",
       "2015-06-25     98\n",
       "2015-06-26     55\n",
       "2015-06-30     53\n",
       "             ... \n",
       "2015-05-17      7\n",
       "2015-12-05      7\n",
       "2015-05-04      6\n",
       "2015-11-04      5\n",
       "2015-03-05      5\n",
       "Name: Date_month_year, Length: 91, dtype: int64"
      ]
     },
     "execution_count": 12,
     "metadata": {},
     "output_type": "execute_result"
    }
   ],
   "source": [
    "No_of_complaints_daywise"
   ]
  },
  {
   "cell_type": "code",
   "execution_count": 13,
   "metadata": {},
   "outputs": [
    {
     "data": {
      "text/plain": [
       "<matplotlib.axes._subplots.AxesSubplot at 0x244255b6708>"
      ]
     },
     "execution_count": 13,
     "metadata": {},
     "output_type": "execute_result"
    },
    {
     "data": {
      "image/png": "[encoded data removed]",
      "text/plain": [
       "<Figure size 1080x360 with 1 Axes>"
      ]
     },
     "metadata": {
      "needs_background": "light"
     },
     "output_type": "display_data"
    }
   ],
   "source": [
    "## Month wise plot\n",
    "df_comcast_daywise_count = df_comcast[\"Date_month_year\"].value_counts()\n",
    "df_comcast_daywise_count.plot(figsize=(15,5))"
   ]
  },
  {
   "cell_type": "code",
   "execution_count": 14,
   "metadata": {},
   "outputs": [
    {
     "data": {
      "text/plain": [
       "<matplotlib.axes._subplots.AxesSubplot at 0x24429fd1648>"
      ]
     },
     "execution_count": 14,
     "metadata": {},
     "output_type": "execute_result"
    },
    {
     "data": {
      "image/png": "[encoded data removed]",
      "text/plain": [
       "<Figure size 720x360 with 1 Axes>"
      ]
     },
     "metadata": {
      "needs_background": "light"
     },
     "output_type": "display_data"
    }
   ],
   "source": [
    "df_comcast_Monthwise_count = No_of_complaints_daywise.groupby(pd.Grouper(freq=\"M\")).size()\n",
    "df_comcast_Monthwise_count.plot(figsize=(10,5))"
   ]
  },
  {
   "cell_type": "code",
   "execution_count": 15,
   "metadata": {},
   "outputs": [],
   "source": [
    "df_com = df_comcast.sort_values(by = 'Date_month_year',ascending=False)"
   ]
  },
  {
   "cell_type": "code",
   "execution_count": 16,
   "metadata": {},
   "outputs": [
    {
     "data": {
      "text/html": [
       "<div>\n",
       "<style scoped>\n",
       "    .dataframe tbody tr th:only-of-type {\n",
       "        vertical-align: middle;\n",
       "    }\n",
       "\n",
       "    .dataframe tbody tr th {\n",
       "        vertical-align: top;\n",
       "    }\n",
       "\n",
       "    .dataframe thead th {\n",
       "        text-align: right;\n",
       "    }\n",
       "</style>\n",
       "<table border=\"1\" class=\"dataframe\">\n",
       "  <thead>\n",
       "    <tr style=\"text-align: right;\">\n",
       "      <th></th>\n",
       "      <th>Ticket #</th>\n",
       "      <th>Customer Complaint</th>\n",
       "      <th>Date</th>\n",
       "      <th>Date_month_year</th>\n",
       "      <th>Time</th>\n",
       "      <th>Received Via</th>\n",
       "      <th>City</th>\n",
       "      <th>State</th>\n",
       "      <th>Zip code</th>\n",
       "      <th>Status</th>\n",
       "      <th>Filing on Behalf of Someone</th>\n",
       "      <th>Report_index</th>\n",
       "    </tr>\n",
       "    <tr>\n",
       "      <th>Report_index</th>\n",
       "      <th></th>\n",
       "      <th></th>\n",
       "      <th></th>\n",
       "      <th></th>\n",
       "      <th></th>\n",
       "      <th></th>\n",
       "      <th></th>\n",
       "      <th></th>\n",
       "      <th></th>\n",
       "      <th></th>\n",
       "      <th></th>\n",
       "      <th></th>\n",
       "    </tr>\n",
       "  </thead>\n",
       "  <tbody>\n",
       "    <tr>\n",
       "      <td>06-12-15 5:28:32 PM</td>\n",
       "      <td>337985</td>\n",
       "      <td>HBO shouldn't have a load time</td>\n",
       "      <td>06-12-15</td>\n",
       "      <td>2015-12-06</td>\n",
       "      <td>5:28:32 PM</td>\n",
       "      <td>Customer Care Call</td>\n",
       "      <td>Indianapolis</td>\n",
       "      <td>Indiana</td>\n",
       "      <td>46268</td>\n",
       "      <td>Solved</td>\n",
       "      <td>No</td>\n",
       "      <td>06-12-15 5:28:32 PM</td>\n",
       "    </tr>\n",
       "    <tr>\n",
       "      <td>06-12-15 7:31:37 PM</td>\n",
       "      <td>338283</td>\n",
       "      <td>monthly data caps</td>\n",
       "      <td>06-12-15</td>\n",
       "      <td>2015-12-06</td>\n",
       "      <td>7:31:37 PM</td>\n",
       "      <td>Customer Care Call</td>\n",
       "      <td>Gadsden</td>\n",
       "      <td>Alabama</td>\n",
       "      <td>35901</td>\n",
       "      <td>Solved</td>\n",
       "      <td>No</td>\n",
       "      <td>06-12-15 7:31:37 PM</td>\n",
       "    </tr>\n",
       "    <tr>\n",
       "      <td>06-12-15 11:52:11 PM</td>\n",
       "      <td>338606</td>\n",
       "      <td>Internet connection outage</td>\n",
       "      <td>06-12-15</td>\n",
       "      <td>2015-12-06</td>\n",
       "      <td>11:52:11 PM</td>\n",
       "      <td>Customer Care Call</td>\n",
       "      <td>Clarkston</td>\n",
       "      <td>Michigan</td>\n",
       "      <td>48346</td>\n",
       "      <td>Solved</td>\n",
       "      <td>No</td>\n",
       "      <td>06-12-15 11:52:11 PM</td>\n",
       "    </tr>\n",
       "  </tbody>\n",
       "</table>\n",
       "</div>"
      ],
      "text/plain": [
       "                     Ticket #              Customer Complaint      Date  \\\n",
       "Report_index                                                              \n",
       "06-12-15 5:28:32 PM    337985  HBO shouldn't have a load time  06-12-15   \n",
       "06-12-15 7:31:37 PM    338283               monthly data caps  06-12-15   \n",
       "06-12-15 11:52:11 PM   338606      Internet connection outage  06-12-15   \n",
       "\n",
       "                     Date_month_year         Time        Received Via  \\\n",
       "Report_index                                                            \n",
       "06-12-15 5:28:32 PM       2015-12-06   5:28:32 PM  Customer Care Call   \n",
       "06-12-15 7:31:37 PM       2015-12-06   7:31:37 PM  Customer Care Call   \n",
       "06-12-15 11:52:11 PM      2015-12-06  11:52:11 PM  Customer Care Call   \n",
       "\n",
       "                              City     State  Zip code  Status  \\\n",
       "Report_index                                                     \n",
       "06-12-15 5:28:32 PM   Indianapolis   Indiana     46268  Solved   \n",
       "06-12-15 7:31:37 PM        Gadsden   Alabama     35901  Solved   \n",
       "06-12-15 11:52:11 PM     Clarkston  Michigan     48346  Solved   \n",
       "\n",
       "                     Filing on Behalf of Someone          Report_index  \n",
       "Report_index                                                            \n",
       "06-12-15 5:28:32 PM                           No   06-12-15 5:28:32 PM  \n",
       "06-12-15 7:31:37 PM                           No   06-12-15 7:31:37 PM  \n",
       "06-12-15 11:52:11 PM                          No  06-12-15 11:52:11 PM  "
      ]
     },
     "execution_count": 16,
     "metadata": {},
     "output_type": "execute_result"
    }
   ],
   "source": [
    "df_com.head(3)"
   ]
  },
  {
   "cell_type": "code",
   "execution_count": 17,
   "metadata": {},
   "outputs": [],
   "source": [
    "## Which complaint types are maximum i.e., around internet, network issues, or across any other domains.\n",
    "## -  Create a new categorical variable with value as Open and Closed. \n",
    "##      Open & Pending  --> OPEN\n",
    "##      Closed & Solved --> CLOSED\n",
    "## -  Provide state wise status of complaints in a stacked bar chart. \n",
    "##      Use the categorized variable from Q3. \n",
    "##      Provide insights on:"
   ]
  },
  {
   "cell_type": "code",
   "execution_count": 18,
   "metadata": {},
   "outputs": [
    {
     "data": {
      "text/plain": [
       "array(['Closed', 'Open', 'Solved', 'Pending'], dtype=object)"
      ]
     },
     "execution_count": 18,
     "metadata": {},
     "output_type": "execute_result"
    }
   ],
   "source": [
    "df_comcast.Status.unique()"
   ]
  },
  {
   "cell_type": "code",
   "execution_count": 19,
   "metadata": {},
   "outputs": [],
   "source": [
    "df_comcast[\"NewStatus\"] = [\"Open\" if Status== \"Open\" or \n",
    "                                     Status== \"Pending\"\n",
    "                                  else \"Closed\" \n",
    "                        for Status in df_comcast[\"Status\"]]"
   ]
  },
  {
   "cell_type": "code",
   "execution_count": 20,
   "metadata": {},
   "outputs": [
    {
     "data": {
      "text/html": [
       "<div>\n",
       "<style scoped>\n",
       "    .dataframe tbody tr th:only-of-type {\n",
       "        vertical-align: middle;\n",
       "    }\n",
       "\n",
       "    .dataframe tbody tr th {\n",
       "        vertical-align: top;\n",
       "    }\n",
       "\n",
       "    .dataframe thead th {\n",
       "        text-align: right;\n",
       "    }\n",
       "</style>\n",
       "<table border=\"1\" class=\"dataframe\">\n",
       "  <thead>\n",
       "    <tr style=\"text-align: right;\">\n",
       "      <th></th>\n",
       "      <th>Ticket #</th>\n",
       "      <th>Customer Complaint</th>\n",
       "      <th>Date</th>\n",
       "      <th>Date_month_year</th>\n",
       "      <th>Time</th>\n",
       "      <th>Received Via</th>\n",
       "      <th>City</th>\n",
       "      <th>State</th>\n",
       "      <th>Zip code</th>\n",
       "      <th>Status</th>\n",
       "      <th>Filing on Behalf of Someone</th>\n",
       "      <th>Report_index</th>\n",
       "      <th>NewStatus</th>\n",
       "    </tr>\n",
       "    <tr>\n",
       "      <th>Report_index</th>\n",
       "      <th></th>\n",
       "      <th></th>\n",
       "      <th></th>\n",
       "      <th></th>\n",
       "      <th></th>\n",
       "      <th></th>\n",
       "      <th></th>\n",
       "      <th></th>\n",
       "      <th></th>\n",
       "      <th></th>\n",
       "      <th></th>\n",
       "      <th></th>\n",
       "      <th></th>\n",
       "    </tr>\n",
       "  </thead>\n",
       "  <tbody>\n",
       "    <tr>\n",
       "      <td>22-04-15 3:53:50 PM</td>\n",
       "      <td>250635</td>\n",
       "      <td>Comcast Cable Internet Speeds</td>\n",
       "      <td>22-04-15</td>\n",
       "      <td>2015-04-22</td>\n",
       "      <td>3:53:50 PM</td>\n",
       "      <td>Customer Care Call</td>\n",
       "      <td>Abingdon</td>\n",
       "      <td>Maryland</td>\n",
       "      <td>21009</td>\n",
       "      <td>Closed</td>\n",
       "      <td>No</td>\n",
       "      <td>22-04-15 3:53:50 PM</td>\n",
       "      <td>Closed</td>\n",
       "    </tr>\n",
       "    <tr>\n",
       "      <td>04-08-15 10:22:56 AM</td>\n",
       "      <td>223441</td>\n",
       "      <td>Payment disappear - service got disconnected</td>\n",
       "      <td>04-08-15</td>\n",
       "      <td>2015-08-04</td>\n",
       "      <td>10:22:56 AM</td>\n",
       "      <td>Internet</td>\n",
       "      <td>Acworth</td>\n",
       "      <td>Georgia</td>\n",
       "      <td>30102</td>\n",
       "      <td>Closed</td>\n",
       "      <td>No</td>\n",
       "      <td>04-08-15 10:22:56 AM</td>\n",
       "      <td>Closed</td>\n",
       "    </tr>\n",
       "    <tr>\n",
       "      <td>18-04-15 9:55:47 AM</td>\n",
       "      <td>242732</td>\n",
       "      <td>Speed and Service</td>\n",
       "      <td>18-04-15</td>\n",
       "      <td>2015-04-18</td>\n",
       "      <td>9:55:47 AM</td>\n",
       "      <td>Internet</td>\n",
       "      <td>Acworth</td>\n",
       "      <td>Georgia</td>\n",
       "      <td>30101</td>\n",
       "      <td>Closed</td>\n",
       "      <td>Yes</td>\n",
       "      <td>18-04-15 9:55:47 AM</td>\n",
       "      <td>Closed</td>\n",
       "    </tr>\n",
       "  </tbody>\n",
       "</table>\n",
       "</div>"
      ],
      "text/plain": [
       "                     Ticket #                            Customer Complaint  \\\n",
       "Report_index                                                                  \n",
       "22-04-15 3:53:50 PM    250635                 Comcast Cable Internet Speeds   \n",
       "04-08-15 10:22:56 AM   223441  Payment disappear - service got disconnected   \n",
       "18-04-15 9:55:47 AM    242732                             Speed and Service   \n",
       "\n",
       "                          Date Date_month_year         Time  \\\n",
       "Report_index                                                  \n",
       "22-04-15 3:53:50 PM   22-04-15      2015-04-22   3:53:50 PM   \n",
       "04-08-15 10:22:56 AM  04-08-15      2015-08-04  10:22:56 AM   \n",
       "18-04-15 9:55:47 AM   18-04-15      2015-04-18   9:55:47 AM   \n",
       "\n",
       "                            Received Via      City     State  Zip code  \\\n",
       "Report_index                                                             \n",
       "22-04-15 3:53:50 PM   Customer Care Call  Abingdon  Maryland     21009   \n",
       "04-08-15 10:22:56 AM            Internet   Acworth   Georgia     30102   \n",
       "18-04-15 9:55:47 AM             Internet   Acworth   Georgia     30101   \n",
       "\n",
       "                      Status Filing on Behalf of Someone  \\\n",
       "Report_index                                               \n",
       "22-04-15 3:53:50 PM   Closed                          No   \n",
       "04-08-15 10:22:56 AM  Closed                          No   \n",
       "18-04-15 9:55:47 AM   Closed                         Yes   \n",
       "\n",
       "                              Report_index NewStatus  \n",
       "Report_index                                          \n",
       "22-04-15 3:53:50 PM    22-04-15 3:53:50 PM    Closed  \n",
       "04-08-15 10:22:56 AM  04-08-15 10:22:56 AM    Closed  \n",
       "18-04-15 9:55:47 AM    18-04-15 9:55:47 AM    Closed  "
      ]
     },
     "execution_count": 20,
     "metadata": {},
     "output_type": "execute_result"
    }
   ],
   "source": [
    "df_comcast.head(3)"
   ]
  },
  {
   "cell_type": "code",
   "execution_count": 21,
   "metadata": {},
   "outputs": [
    {
     "data": {
      "text/html": [
       "<div>\n",
       "<style scoped>\n",
       "    .dataframe tbody tr th:only-of-type {\n",
       "        vertical-align: middle;\n",
       "    }\n",
       "\n",
       "    .dataframe tbody tr th {\n",
       "        vertical-align: top;\n",
       "    }\n",
       "\n",
       "    .dataframe thead th {\n",
       "        text-align: right;\n",
       "    }\n",
       "</style>\n",
       "<table border=\"1\" class=\"dataframe\">\n",
       "  <thead>\n",
       "    <tr style=\"text-align: right;\">\n",
       "      <th></th>\n",
       "      <th>Count</th>\n",
       "    </tr>\n",
       "    <tr>\n",
       "      <th>State</th>\n",
       "      <th></th>\n",
       "    </tr>\n",
       "  </thead>\n",
       "  <tbody>\n",
       "    <tr>\n",
       "      <td>Georgia</td>\n",
       "      <td>288</td>\n",
       "    </tr>\n",
       "    <tr>\n",
       "      <td>Florida</td>\n",
       "      <td>240</td>\n",
       "    </tr>\n",
       "    <tr>\n",
       "      <td>California</td>\n",
       "      <td>220</td>\n",
       "    </tr>\n",
       "    <tr>\n",
       "      <td>Illinois</td>\n",
       "      <td>164</td>\n",
       "    </tr>\n",
       "    <tr>\n",
       "      <td>Tennessee</td>\n",
       "      <td>143</td>\n",
       "    </tr>\n",
       "  </tbody>\n",
       "</table>\n",
       "</div>"
      ],
      "text/plain": [
       "            Count\n",
       "State            \n",
       "Georgia       288\n",
       "Florida       240\n",
       "California    220\n",
       "Illinois      164\n",
       "Tennessee     143"
      ]
     },
     "execution_count": 21,
     "metadata": {},
     "output_type": "execute_result"
    }
   ],
   "source": [
    "df_comcast.groupby([\"State\"]).size().sort_values(ascending=False).to_frame().rename({0: \"Count\"}, axis=1).head()"
   ]
  },
  {
   "cell_type": "code",
   "execution_count": 22,
   "metadata": {},
   "outputs": [],
   "source": [
    "Status_complaints = df_comcast.groupby([\"State\",\"NewStatus\"]).size().unstack()"
   ]
  },
  {
   "cell_type": "code",
   "execution_count": 23,
   "metadata": {},
   "outputs": [
    {
     "data": {
      "text/html": [
       "<div>\n",
       "<style scoped>\n",
       "    .dataframe tbody tr th:only-of-type {\n",
       "        vertical-align: middle;\n",
       "    }\n",
       "\n",
       "    .dataframe tbody tr th {\n",
       "        vertical-align: top;\n",
       "    }\n",
       "\n",
       "    .dataframe thead th {\n",
       "        text-align: right;\n",
       "    }\n",
       "</style>\n",
       "<table border=\"1\" class=\"dataframe\">\n",
       "  <thead>\n",
       "    <tr style=\"text-align: right;\">\n",
       "      <th>NewStatus</th>\n",
       "      <th>Closed</th>\n",
       "      <th>Open</th>\n",
       "    </tr>\n",
       "    <tr>\n",
       "      <th>State</th>\n",
       "      <th></th>\n",
       "      <th></th>\n",
       "    </tr>\n",
       "  </thead>\n",
       "  <tbody>\n",
       "    <tr>\n",
       "      <td>Alabama</td>\n",
       "      <td>17.0</td>\n",
       "      <td>9.0</td>\n",
       "    </tr>\n",
       "    <tr>\n",
       "      <td>Arizona</td>\n",
       "      <td>14.0</td>\n",
       "      <td>6.0</td>\n",
       "    </tr>\n",
       "    <tr>\n",
       "      <td>Arkansas</td>\n",
       "      <td>6.0</td>\n",
       "      <td>0.0</td>\n",
       "    </tr>\n",
       "  </tbody>\n",
       "</table>\n",
       "</div>"
      ],
      "text/plain": [
       "NewStatus  Closed  Open\n",
       "State                  \n",
       "Alabama      17.0   9.0\n",
       "Arizona      14.0   6.0\n",
       "Arkansas      6.0   0.0"
      ]
     },
     "execution_count": 23,
     "metadata": {},
     "output_type": "execute_result"
    }
   ],
   "source": [
    "Status_complaints = Status_complaints.fillna(0)\n",
    "Status_complaints.head(3)"
   ]
  },
  {
   "cell_type": "code",
   "execution_count": 24,
   "metadata": {},
   "outputs": [
    {
     "data": {
      "text/plain": [
       "<matplotlib.axes._subplots.AxesSubplot at 0x24429ed3208>"
      ]
     },
     "execution_count": 24,
     "metadata": {},
     "output_type": "execute_result"
    },
    {
     "data": {
      "image/png": "[encoded data removed]",
      "text/plain": [
       "<Figure size 2160x3600 with 1 Axes>"
      ]
     },
     "metadata": {
      "needs_background": "light"
     },
     "output_type": "display_data"
    }
   ],
   "source": [
    "Status_complaints.plot(kind=\"barh\", figsize=(30,50), stacked=True)"
   ]
  },
  {
   "cell_type": "code",
   "execution_count": 25,
   "metadata": {},
   "outputs": [],
   "source": [
    "### State has the maximum complaints"
   ]
  },
  {
   "cell_type": "code",
   "execution_count": 26,
   "metadata": {},
   "outputs": [
    {
     "data": {
      "text/plain": [
       "State\n",
       "Alabama        26\n",
       "Arizona        20\n",
       "Arkansas        6\n",
       "California    220\n",
       "Colorado       80\n",
       "dtype: int64"
      ]
     },
     "execution_count": 26,
     "metadata": {},
     "output_type": "execute_result"
    }
   ],
   "source": [
    "state_complaints = df_comcast.groupby([\"State\"]).size()\n",
    "state_complaints.head()"
   ]
  },
  {
   "cell_type": "code",
   "execution_count": 27,
   "metadata": {},
   "outputs": [
    {
     "data": {
      "text/plain": [
       "State\n",
       "Georgia       288\n",
       "Florida       240\n",
       "California    220\n",
       "Illinois      164\n",
       "Tennessee     143\n",
       "dtype: int64"
      ]
     },
     "execution_count": 27,
     "metadata": {},
     "output_type": "execute_result"
    }
   ],
   "source": [
    "## State having Highest complaint \n",
    "state_complaints_sort = state_complaints.sort_values(ascending=False)\n",
    "state_complaints_sort.head()"
   ]
  },
  {
   "cell_type": "code",
   "execution_count": 28,
   "metadata": {},
   "outputs": [
    {
     "data": {
      "text/html": [
       "<div>\n",
       "<style scoped>\n",
       "    .dataframe tbody tr th:only-of-type {\n",
       "        vertical-align: middle;\n",
       "    }\n",
       "\n",
       "    .dataframe tbody tr th {\n",
       "        vertical-align: top;\n",
       "    }\n",
       "\n",
       "    .dataframe thead th {\n",
       "        text-align: right;\n",
       "    }\n",
       "</style>\n",
       "<table border=\"1\" class=\"dataframe\">\n",
       "  <thead>\n",
       "    <tr style=\"text-align: right;\">\n",
       "      <th></th>\n",
       "      <th>Count</th>\n",
       "    </tr>\n",
       "    <tr>\n",
       "      <th>State</th>\n",
       "      <th></th>\n",
       "    </tr>\n",
       "  </thead>\n",
       "  <tbody>\n",
       "    <tr>\n",
       "      <td>Georgia</td>\n",
       "      <td>288</td>\n",
       "    </tr>\n",
       "    <tr>\n",
       "      <td>Florida</td>\n",
       "      <td>240</td>\n",
       "    </tr>\n",
       "    <tr>\n",
       "      <td>California</td>\n",
       "      <td>220</td>\n",
       "    </tr>\n",
       "    <tr>\n",
       "      <td>Illinois</td>\n",
       "      <td>164</td>\n",
       "    </tr>\n",
       "    <tr>\n",
       "      <td>Tennessee</td>\n",
       "      <td>143</td>\n",
       "    </tr>\n",
       "  </tbody>\n",
       "</table>\n",
       "</div>"
      ],
      "text/plain": [
       "            Count\n",
       "State            \n",
       "Georgia       288\n",
       "Florida       240\n",
       "California    220\n",
       "Illinois      164\n",
       "Tennessee     143"
      ]
     },
     "execution_count": 28,
     "metadata": {},
     "output_type": "execute_result"
    }
   ],
   "source": [
    "## View the state complaints in dataframe format\n",
    "df_state_complaints_sort1 = state_complaints_sort.to_frame()\n",
    "df_state_complaints_sort1\n",
    "## rename the column '0' as the count \n",
    "State_max_complaints = df_state_complaints_sort1.rename({0: \"Count\"}, axis = 1)\n",
    "State_max_complaints.head()"
   ]
  },
  {
   "cell_type": "code",
   "execution_count": 29,
   "metadata": {},
   "outputs": [
    {
     "data": {
      "text/html": [
       "<div>\n",
       "<style scoped>\n",
       "    .dataframe tbody tr th:only-of-type {\n",
       "        vertical-align: middle;\n",
       "    }\n",
       "\n",
       "    .dataframe tbody tr th {\n",
       "        vertical-align: top;\n",
       "    }\n",
       "\n",
       "    .dataframe thead th {\n",
       "        text-align: right;\n",
       "    }\n",
       "</style>\n",
       "<table border=\"1\" class=\"dataframe\">\n",
       "  <thead>\n",
       "    <tr style=\"text-align: right;\">\n",
       "      <th>NewStatus</th>\n",
       "      <th>Closed</th>\n",
       "      <th>Open</th>\n",
       "    </tr>\n",
       "    <tr>\n",
       "      <th>State</th>\n",
       "      <th></th>\n",
       "      <th></th>\n",
       "    </tr>\n",
       "  </thead>\n",
       "  <tbody>\n",
       "    <tr>\n",
       "      <td>Georgia</td>\n",
       "      <td>208.0</td>\n",
       "      <td>80.0</td>\n",
       "    </tr>\n",
       "    <tr>\n",
       "      <td>Florida</td>\n",
       "      <td>201.0</td>\n",
       "      <td>39.0</td>\n",
       "    </tr>\n",
       "    <tr>\n",
       "      <td>California</td>\n",
       "      <td>159.0</td>\n",
       "      <td>61.0</td>\n",
       "    </tr>\n",
       "    <tr>\n",
       "      <td>Illinois</td>\n",
       "      <td>135.0</td>\n",
       "      <td>29.0</td>\n",
       "    </tr>\n",
       "    <tr>\n",
       "      <td>Pennsylvania</td>\n",
       "      <td>110.0</td>\n",
       "      <td>20.0</td>\n",
       "    </tr>\n",
       "  </tbody>\n",
       "</table>\n",
       "</div>"
      ],
      "text/plain": [
       "NewStatus     Closed  Open\n",
       "State                     \n",
       "Georgia        208.0  80.0\n",
       "Florida        201.0  39.0\n",
       "California     159.0  61.0\n",
       "Illinois       135.0  29.0\n",
       "Pennsylvania   110.0  20.0"
      ]
     },
     "execution_count": 29,
     "metadata": {},
     "output_type": "execute_result"
    }
   ],
   "source": [
    "## No of complaints that are closed and opened status\n",
    "Df_comcast_status = df_comcast.groupby([\"State\",\"NewStatus\"]).size().unstack().fillna(0)\n",
    "Df_comcast_status.sort_values(by ='Closed',ascending=False).head()"
   ]
  },
  {
   "cell_type": "code",
   "execution_count": 30,
   "metadata": {},
   "outputs": [
    {
     "data": {
      "text/plain": [
       "1707.0"
      ]
     },
     "execution_count": 30,
     "metadata": {},
     "output_type": "execute_result"
    }
   ],
   "source": [
    "## Total closed complaints\n",
    "Total_closed = Df_comcast_status['Closed'].sum()\n",
    "Total_closed"
   ]
  },
  {
   "cell_type": "code",
   "execution_count": 31,
   "metadata": {},
   "outputs": [
    {
     "data": {
      "text/plain": [
       "517.0"
      ]
     },
     "execution_count": 31,
     "metadata": {},
     "output_type": "execute_result"
    }
   ],
   "source": [
    "## Total Open complaints\n",
    "Total_open = Df_comcast_status['Open'].sum()\n",
    "Total_open"
   ]
  },
  {
   "cell_type": "code",
   "execution_count": 32,
   "metadata": {},
   "outputs": [],
   "source": [
    "## Total complaints of the individual state\n",
    "Df_comcast_status[\"Total complainints\"] = Df_comcast_status[\"Closed\"] + Df_comcast_status[\"Open\"]"
   ]
  },
  {
   "cell_type": "code",
   "execution_count": 33,
   "metadata": {},
   "outputs": [
    {
     "data": {
      "text/plain": [
       "2224.0"
      ]
     },
     "execution_count": 33,
     "metadata": {},
     "output_type": "execute_result"
    }
   ],
   "source": [
    "Total_complaints = Df_comcast_status[\"Total complainints\"].sum()\n",
    "Total_complaints"
   ]
  },
  {
   "cell_type": "code",
   "execution_count": 34,
   "metadata": {},
   "outputs": [],
   "source": [
    "## Individual State close percentage of a state\n",
    "Df_comcast_status[\"Closed%\"] = ((Df_comcast_status[\"Closed\"]/Total_closed)*100)"
   ]
  },
  {
   "cell_type": "code",
   "execution_count": 35,
   "metadata": {},
   "outputs": [],
   "source": [
    "## Individual State open percentage of a state\n",
    "Df_comcast_status[\"Open%\"] = ((Df_comcast_status[\"Open\"]/Total_open)*100)"
   ]
  },
  {
   "cell_type": "code",
   "execution_count": 38,
   "metadata": {},
   "outputs": [],
   "source": [
    "## Statwise percentage of complaints\n",
    "Df_comcast_status[\"Statwise_Perc_compl\"] = ((Df_comcast_status[\"Total complainints\"]/Total_complaints)*100)"
   ]
  },
  {
   "cell_type": "code",
   "execution_count": 39,
   "metadata": {},
   "outputs": [
    {
     "data": {
      "text/html": [
       "<div>\n",
       "<style scoped>\n",
       "    .dataframe tbody tr th:only-of-type {\n",
       "        vertical-align: middle;\n",
       "    }\n",
       "\n",
       "    .dataframe tbody tr th {\n",
       "        vertical-align: top;\n",
       "    }\n",
       "\n",
       "    .dataframe thead th {\n",
       "        text-align: right;\n",
       "    }\n",
       "</style>\n",
       "<table border=\"1\" class=\"dataframe\">\n",
       "  <thead>\n",
       "    <tr style=\"text-align: right;\">\n",
       "      <th>NewStatus</th>\n",
       "      <th>Closed</th>\n",
       "      <th>Open</th>\n",
       "      <th>Total complainints</th>\n",
       "      <th>Closed%</th>\n",
       "      <th>Open%</th>\n",
       "      <th>Statwise_Perc_compl</th>\n",
       "    </tr>\n",
       "    <tr>\n",
       "      <th>State</th>\n",
       "      <th></th>\n",
       "      <th></th>\n",
       "      <th></th>\n",
       "      <th></th>\n",
       "      <th></th>\n",
       "      <th></th>\n",
       "    </tr>\n",
       "  </thead>\n",
       "  <tbody>\n",
       "    <tr>\n",
       "      <td>Georgia</td>\n",
       "      <td>208.0</td>\n",
       "      <td>80.0</td>\n",
       "      <td>288.0</td>\n",
       "      <td>12.185120</td>\n",
       "      <td>15.473888</td>\n",
       "      <td>12.949640</td>\n",
       "    </tr>\n",
       "    <tr>\n",
       "      <td>Florida</td>\n",
       "      <td>201.0</td>\n",
       "      <td>39.0</td>\n",
       "      <td>240.0</td>\n",
       "      <td>11.775044</td>\n",
       "      <td>7.543520</td>\n",
       "      <td>10.791367</td>\n",
       "    </tr>\n",
       "    <tr>\n",
       "      <td>California</td>\n",
       "      <td>159.0</td>\n",
       "      <td>61.0</td>\n",
       "      <td>220.0</td>\n",
       "      <td>9.314587</td>\n",
       "      <td>11.798839</td>\n",
       "      <td>9.892086</td>\n",
       "    </tr>\n",
       "    <tr>\n",
       "      <td>Illinois</td>\n",
       "      <td>135.0</td>\n",
       "      <td>29.0</td>\n",
       "      <td>164.0</td>\n",
       "      <td>7.908612</td>\n",
       "      <td>5.609284</td>\n",
       "      <td>7.374101</td>\n",
       "    </tr>\n",
       "    <tr>\n",
       "      <td>Pennsylvania</td>\n",
       "      <td>110.0</td>\n",
       "      <td>20.0</td>\n",
       "      <td>130.0</td>\n",
       "      <td>6.444054</td>\n",
       "      <td>3.868472</td>\n",
       "      <td>5.845324</td>\n",
       "    </tr>\n",
       "  </tbody>\n",
       "</table>\n",
       "</div>"
      ],
      "text/plain": [
       "NewStatus     Closed  Open  Total complainints    Closed%      Open%  \\\n",
       "State                                                                  \n",
       "Georgia        208.0  80.0               288.0  12.185120  15.473888   \n",
       "Florida        201.0  39.0               240.0  11.775044   7.543520   \n",
       "California     159.0  61.0               220.0   9.314587  11.798839   \n",
       "Illinois       135.0  29.0               164.0   7.908612   5.609284   \n",
       "Pennsylvania   110.0  20.0               130.0   6.444054   3.868472   \n",
       "\n",
       "NewStatus     Statwise_Perc_compl  \n",
       "State                              \n",
       "Georgia                 12.949640  \n",
       "Florida                 10.791367  \n",
       "California               9.892086  \n",
       "Illinois                 7.374101  \n",
       "Pennsylvania             5.845324  "
      ]
     },
     "execution_count": 39,
     "metadata": {},
     "output_type": "execute_result"
    }
   ],
   "source": [
    "Statwiste_comcast_status = Df_comcast_status.sort_values(by ='Closed',ascending=False)\n",
    "Statwiste_comcast_status.head(5)"
   ]
  },
  {
   "cell_type": "code",
   "execution_count": 40,
   "metadata": {},
   "outputs": [],
   "source": [
    "df_comcast_received_via = df_comcast.filter([\"Received Via\",\"State\",\"Status\"])"
   ]
  },
  {
   "cell_type": "code",
   "execution_count": 41,
   "metadata": {},
   "outputs": [
    {
     "data": {
      "text/html": [
       "<div>\n",
       "<style scoped>\n",
       "    .dataframe tbody tr th:only-of-type {\n",
       "        vertical-align: middle;\n",
       "    }\n",
       "\n",
       "    .dataframe tbody tr th {\n",
       "        vertical-align: top;\n",
       "    }\n",
       "\n",
       "    .dataframe thead th {\n",
       "        text-align: right;\n",
       "    }\n",
       "</style>\n",
       "<table border=\"1\" class=\"dataframe\">\n",
       "  <thead>\n",
       "    <tr style=\"text-align: right;\">\n",
       "      <th></th>\n",
       "      <th>Received Via</th>\n",
       "      <th>State</th>\n",
       "      <th>Status</th>\n",
       "    </tr>\n",
       "    <tr>\n",
       "      <th>Report_index</th>\n",
       "      <th></th>\n",
       "      <th></th>\n",
       "      <th></th>\n",
       "    </tr>\n",
       "  </thead>\n",
       "  <tbody>\n",
       "    <tr>\n",
       "      <td>22-04-15 3:53:50 PM</td>\n",
       "      <td>Customer Care Call</td>\n",
       "      <td>Maryland</td>\n",
       "      <td>Closed</td>\n",
       "    </tr>\n",
       "    <tr>\n",
       "      <td>04-08-15 10:22:56 AM</td>\n",
       "      <td>Internet</td>\n",
       "      <td>Georgia</td>\n",
       "      <td>Closed</td>\n",
       "    </tr>\n",
       "    <tr>\n",
       "      <td>18-04-15 9:55:47 AM</td>\n",
       "      <td>Internet</td>\n",
       "      <td>Georgia</td>\n",
       "      <td>Closed</td>\n",
       "    </tr>\n",
       "    <tr>\n",
       "      <td>05-07-15 11:59:35 AM</td>\n",
       "      <td>Internet</td>\n",
       "      <td>Georgia</td>\n",
       "      <td>Open</td>\n",
       "    </tr>\n",
       "    <tr>\n",
       "      <td>26-05-15 1:25:26 PM</td>\n",
       "      <td>Internet</td>\n",
       "      <td>Georgia</td>\n",
       "      <td>Solved</td>\n",
       "    </tr>\n",
       "    <tr>\n",
       "      <td>06-12-15 9:59:40 PM</td>\n",
       "      <td>Internet</td>\n",
       "      <td>Georgia</td>\n",
       "      <td>Solved</td>\n",
       "    </tr>\n",
       "    <tr>\n",
       "      <td>24-06-15 10:13:55 AM</td>\n",
       "      <td>Customer Care Call</td>\n",
       "      <td>Georgia</td>\n",
       "      <td>Pending</td>\n",
       "    </tr>\n",
       "    <tr>\n",
       "      <td>23-06-15 6:56:14 PM</td>\n",
       "      <td>Internet</td>\n",
       "      <td>Michigan</td>\n",
       "      <td>Solved</td>\n",
       "    </tr>\n",
       "    <tr>\n",
       "      <td>06-01-15 11:46:30 PM</td>\n",
       "      <td>Customer Care Call</td>\n",
       "      <td>California</td>\n",
       "      <td>Closed</td>\n",
       "    </tr>\n",
       "    <tr>\n",
       "      <td>28-06-15 6:46:31 PM</td>\n",
       "      <td>Customer Care Call</td>\n",
       "      <td>California</td>\n",
       "      <td>Open</td>\n",
       "    </tr>\n",
       "  </tbody>\n",
       "</table>\n",
       "</div>"
      ],
      "text/plain": [
       "                            Received Via       State   Status\n",
       "Report_index                                                 \n",
       "22-04-15 3:53:50 PM   Customer Care Call    Maryland   Closed\n",
       "04-08-15 10:22:56 AM            Internet     Georgia   Closed\n",
       "18-04-15 9:55:47 AM             Internet     Georgia   Closed\n",
       "05-07-15 11:59:35 AM            Internet     Georgia     Open\n",
       "26-05-15 1:25:26 PM             Internet     Georgia   Solved\n",
       "06-12-15 9:59:40 PM             Internet     Georgia   Solved\n",
       "24-06-15 10:13:55 AM  Customer Care Call     Georgia  Pending\n",
       "23-06-15 6:56:14 PM             Internet    Michigan   Solved\n",
       "06-01-15 11:46:30 PM  Customer Care Call  California   Closed\n",
       "28-06-15 6:46:31 PM   Customer Care Call  California     Open"
      ]
     },
     "execution_count": 41,
     "metadata": {},
     "output_type": "execute_result"
    }
   ],
   "source": [
    "df_comcast_received_via.head(10)"
   ]
  },
  {
   "cell_type": "code",
   "execution_count": 42,
   "metadata": {},
   "outputs": [],
   "source": [
    "df_comcast_received_via[\"NewStatus\"] = [\"Open\" if Status== \"Open\" or \n",
    "                                     Status== \"Pending\"\n",
    "                                  else \"Closed\" \n",
    "                        for Status in df_comcast[\"Status\"]]"
   ]
  },
  {
   "cell_type": "code",
   "execution_count": 43,
   "metadata": {},
   "outputs": [
    {
     "data": {
      "text/html": [
       "<div>\n",
       "<style scoped>\n",
       "    .dataframe tbody tr th:only-of-type {\n",
       "        vertical-align: middle;\n",
       "    }\n",
       "\n",
       "    .dataframe tbody tr th {\n",
       "        vertical-align: top;\n",
       "    }\n",
       "\n",
       "    .dataframe thead th {\n",
       "        text-align: right;\n",
       "    }\n",
       "</style>\n",
       "<table border=\"1\" class=\"dataframe\">\n",
       "  <thead>\n",
       "    <tr style=\"text-align: right;\">\n",
       "      <th></th>\n",
       "      <th>Received Via</th>\n",
       "      <th>State</th>\n",
       "      <th>Status</th>\n",
       "      <th>NewStatus</th>\n",
       "    </tr>\n",
       "    <tr>\n",
       "      <th>Report_index</th>\n",
       "      <th></th>\n",
       "      <th></th>\n",
       "      <th></th>\n",
       "      <th></th>\n",
       "    </tr>\n",
       "  </thead>\n",
       "  <tbody>\n",
       "    <tr>\n",
       "      <td>22-04-15 3:53:50 PM</td>\n",
       "      <td>Customer Care Call</td>\n",
       "      <td>Maryland</td>\n",
       "      <td>Closed</td>\n",
       "      <td>Closed</td>\n",
       "    </tr>\n",
       "    <tr>\n",
       "      <td>04-08-15 10:22:56 AM</td>\n",
       "      <td>Internet</td>\n",
       "      <td>Georgia</td>\n",
       "      <td>Closed</td>\n",
       "      <td>Closed</td>\n",
       "    </tr>\n",
       "    <tr>\n",
       "      <td>18-04-15 9:55:47 AM</td>\n",
       "      <td>Internet</td>\n",
       "      <td>Georgia</td>\n",
       "      <td>Closed</td>\n",
       "      <td>Closed</td>\n",
       "    </tr>\n",
       "    <tr>\n",
       "      <td>05-07-15 11:59:35 AM</td>\n",
       "      <td>Internet</td>\n",
       "      <td>Georgia</td>\n",
       "      <td>Open</td>\n",
       "      <td>Open</td>\n",
       "    </tr>\n",
       "    <tr>\n",
       "      <td>26-05-15 1:25:26 PM</td>\n",
       "      <td>Internet</td>\n",
       "      <td>Georgia</td>\n",
       "      <td>Solved</td>\n",
       "      <td>Closed</td>\n",
       "    </tr>\n",
       "    <tr>\n",
       "      <td>...</td>\n",
       "      <td>...</td>\n",
       "      <td>...</td>\n",
       "      <td>...</td>\n",
       "      <td>...</td>\n",
       "    </tr>\n",
       "    <tr>\n",
       "      <td>04-02-15 9:13:18 AM</td>\n",
       "      <td>Customer Care Call</td>\n",
       "      <td>Florida</td>\n",
       "      <td>Closed</td>\n",
       "      <td>Closed</td>\n",
       "    </tr>\n",
       "    <tr>\n",
       "      <td>06-02-15 1:24:39 PM</td>\n",
       "      <td>Customer Care Call</td>\n",
       "      <td>Michigan</td>\n",
       "      <td>Solved</td>\n",
       "      <td>Closed</td>\n",
       "    </tr>\n",
       "    <tr>\n",
       "      <td>06-09-15 5:28:41 PM</td>\n",
       "      <td>Internet</td>\n",
       "      <td>Michigan</td>\n",
       "      <td>Solved</td>\n",
       "      <td>Closed</td>\n",
       "    </tr>\n",
       "    <tr>\n",
       "      <td>23-06-15 11:13:30 PM</td>\n",
       "      <td>Customer Care Call</td>\n",
       "      <td>Michigan</td>\n",
       "      <td>Solved</td>\n",
       "      <td>Closed</td>\n",
       "    </tr>\n",
       "    <tr>\n",
       "      <td>24-06-15 10:28:33 PM</td>\n",
       "      <td>Customer Care Call</td>\n",
       "      <td>Michigan</td>\n",
       "      <td>Open</td>\n",
       "      <td>Open</td>\n",
       "    </tr>\n",
       "  </tbody>\n",
       "</table>\n",
       "<p>2224 rows × 4 columns</p>\n",
       "</div>"
      ],
      "text/plain": [
       "                            Received Via     State  Status NewStatus\n",
       "Report_index                                                        \n",
       "22-04-15 3:53:50 PM   Customer Care Call  Maryland  Closed    Closed\n",
       "04-08-15 10:22:56 AM            Internet   Georgia  Closed    Closed\n",
       "18-04-15 9:55:47 AM             Internet   Georgia  Closed    Closed\n",
       "05-07-15 11:59:35 AM            Internet   Georgia    Open      Open\n",
       "26-05-15 1:25:26 PM             Internet   Georgia  Solved    Closed\n",
       "...                                  ...       ...     ...       ...\n",
       "04-02-15 9:13:18 AM   Customer Care Call   Florida  Closed    Closed\n",
       "06-02-15 1:24:39 PM   Customer Care Call  Michigan  Solved    Closed\n",
       "06-09-15 5:28:41 PM             Internet  Michigan  Solved    Closed\n",
       "23-06-15 11:13:30 PM  Customer Care Call  Michigan  Solved    Closed\n",
       "24-06-15 10:28:33 PM  Customer Care Call  Michigan    Open      Open\n",
       "\n",
       "[2224 rows x 4 columns]"
      ]
     },
     "execution_count": 43,
     "metadata": {},
     "output_type": "execute_result"
    }
   ],
   "source": [
    "df_comcast_received_via"
   ]
  },
  {
   "cell_type": "code",
   "execution_count": 44,
   "metadata": {},
   "outputs": [],
   "source": [
    "## Complaints received through the internet\n",
    "df_comcast_received_via_int = (df_comcast_received_via [\"Received Via\"] == 'Internet')"
   ]
  },
  {
   "cell_type": "code",
   "execution_count": 45,
   "metadata": {},
   "outputs": [],
   "source": [
    "Int = df_comcast_received_via[df_comcast_received_via_int]"
   ]
  },
  {
   "cell_type": "code",
   "execution_count": 46,
   "metadata": {},
   "outputs": [],
   "source": [
    "Int1 = Int.groupby([\"Received Via\",\"NewStatus\"]).size().unstack()"
   ]
  },
  {
   "cell_type": "code",
   "execution_count": 47,
   "metadata": {},
   "outputs": [
    {
     "data": {
      "text/plain": [
       "843"
      ]
     },
     "execution_count": 47,
     "metadata": {},
     "output_type": "execute_result"
    }
   ],
   "source": [
    "Internet_Closed = Int1['Closed'].sum()\n",
    "Internet_Closed"
   ]
  },
  {
   "cell_type": "code",
   "execution_count": 48,
   "metadata": {},
   "outputs": [
    {
     "data": {
      "text/plain": [
       "262"
      ]
     },
     "execution_count": 48,
     "metadata": {},
     "output_type": "execute_result"
    }
   ],
   "source": [
    "Internet_Open = Int1['Open'].sum()\n",
    "Internet_Open"
   ]
  },
  {
   "cell_type": "code",
   "execution_count": 49,
   "metadata": {},
   "outputs": [
    {
     "data": {
      "text/plain": [
       "1105"
      ]
     },
     "execution_count": 49,
     "metadata": {},
     "output_type": "execute_result"
    }
   ],
   "source": [
    "Total_Internet_complaints = Internet_Closed + Internet_Open\n",
    "Total_Internet_complaints"
   ]
  },
  {
   "cell_type": "code",
   "execution_count": 50,
   "metadata": {},
   "outputs": [],
   "source": [
    "## Complaints received through the 'customer care calls(CCC)'\n",
    "df_comcast_received_via_CCC = (df_comcast_received_via [\"Received Via\"] == 'Customer Care Call')"
   ]
  },
  {
   "cell_type": "code",
   "execution_count": 51,
   "metadata": {},
   "outputs": [],
   "source": [
    "CCC = df_comcast_received_via[df_comcast_received_via_CCC]"
   ]
  },
  {
   "cell_type": "code",
   "execution_count": 52,
   "metadata": {},
   "outputs": [],
   "source": [
    "CCC1 = CCC.groupby([\"Received Via\",\"NewStatus\"]).size().unstack()"
   ]
  },
  {
   "cell_type": "code",
   "execution_count": 53,
   "metadata": {},
   "outputs": [
    {
     "data": {
      "text/plain": [
       "864"
      ]
     },
     "execution_count": 53,
     "metadata": {},
     "output_type": "execute_result"
    }
   ],
   "source": [
    "CCC_Closed = CCC1['Closed'].sum()\n",
    "CCC_Closed"
   ]
  },
  {
   "cell_type": "code",
   "execution_count": 54,
   "metadata": {},
   "outputs": [
    {
     "data": {
      "text/plain": [
       "255"
      ]
     },
     "execution_count": 54,
     "metadata": {},
     "output_type": "execute_result"
    }
   ],
   "source": [
    "CCC_Open = CCC1['Open'].sum()\n",
    "CCC_Open"
   ]
  },
  {
   "cell_type": "code",
   "execution_count": 55,
   "metadata": {},
   "outputs": [
    {
     "data": {
      "text/plain": [
       "1119"
      ]
     },
     "execution_count": 55,
     "metadata": {},
     "output_type": "execute_result"
    }
   ],
   "source": [
    "Total_CCC_complaints = CCC_Closed + CCC_Open\n",
    "Total_CCC_complaints"
   ]
  },
  {
   "cell_type": "code",
   "execution_count": 56,
   "metadata": {},
   "outputs": [
    {
     "data": {
      "text/plain": [
       "2224"
      ]
     },
     "execution_count": 56,
     "metadata": {},
     "output_type": "execute_result"
    }
   ],
   "source": [
    "## Percentage of complaints resolved till date, which were received through the Internet and customer care calls.\n",
    "Total_Int_CCC = Total_Internet_complaints + Total_CCC_complaints\n",
    "Total_Int_CCC"
   ]
  },
  {
   "cell_type": "code",
   "execution_count": 57,
   "metadata": {},
   "outputs": [
    {
     "data": {
      "text/plain": [
       "76.75359712230215"
      ]
     },
     "execution_count": 57,
     "metadata": {},
     "output_type": "execute_result"
    }
   ],
   "source": [
    "## Percentage of complaints resolved till date(Internet and customer care calls)\n",
    "Complaints_Int_CCC_Resolved = Internet_Closed + CCC_Closed\n",
    "Complaints_Int_CCC_Res_Per = ((Complaints_Int_CCC_Resolved/Total_Int_CCC)*100)\n",
    "Complaints_Int_CCC_Res_Per"
   ]
  },
  {
   "cell_type": "code",
   "execution_count": null,
   "metadata": {},
   "outputs": [],
   "source": []
  }
 ],
 "metadata": {
  "kernelspec": {
   "display_name": "Python 3",
   "language": "python",
   "name": "python3"
  },
  "language_info": {
   "codemirror_mode": {
    "name": "ipython",
    "version": 3
   },
   "file_extension": ".py",
   "mimetype": "text/x-python",
   "name": "python",
   "nbconvert_exporter": "python",
   "pygments_lexer": "ipython3",
   "version": "3.7.4"
  }
 },
 "nbformat": 4,
 "nbformat_minor": 2
}
